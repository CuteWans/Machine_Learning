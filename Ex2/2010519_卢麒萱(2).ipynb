{
 "cells": [
  {
   "cell_type": "markdown",
   "metadata": {},
   "source": [
    "# 机器学习作业:回归模型\n",
    "- 姓名：卢麒萱\n",
    "- 学号：2010519\n",
    "- 专业：计算机科学与技术"
   ]
  },
  {
   "cell_type": "markdown",
   "metadata": {},
   "source": [
    "- 回归是监督学习的一个重要问题，回归用于预测输入变量和输出变量之间的关系，特别是当输入变量的值发生变化时，输出变量的值也随之发生变化。\n",
    "- 回归模型是一种表示从输入变量到输出变量之间映射的函数\n",
    "- 对连续值的预测\n",
    "- 可以用合适的曲线揭示样本点随着自变量的变化关系"
   ]
  },
  {
   "cell_type": "markdown",
   "metadata": {},
   "source": [
    "### 实验要求\n",
    "#### 基本要求：\n",
    "将数据集winequality-white.csv按照4:1划分为训练集和测试集。\n",
    "1. 构造线性回归模型，并采用批量梯度下降和随机梯度下降进行优化；输出训练集和测试集的均方误差（MSE），画出MSE收敛曲线。\n",
    "2. 对于批量梯度下降和随机梯度下降，采用不同的学习率并进行MSE曲线展示，分析选择最佳的学习率。\n",
    "\n",
    "特别需要注意：\n",
    "- 划分数据集时尽可能保持数据分布的一致性，保持样本类别比例相似，可采用分层采样的方式。\n",
    "- 需要对数据集进行一定的预处理\n",
    "\n",
    "#### 中级要求：\n",
    "探究回归模型在机器学习和统计学上的差异。\n",
    "- 回归模型在机器学习领域和统计学领域中都十分常用，而且使用方法也相似，但其实际的含义具有本质的区别。我们希望同学们从回归模型的角度更加充分地理解机器学习和统计学的区别。\n",
    "\n",
    "#### 高级要求：\n",
    "编程实现岭回归算法，求解训练样本的岭回归模型，平均训练误差和平均测试误差（解析法、批量梯度下降法和随机梯度下降法均可）。"
   ]
  },
  {
   "cell_type": "markdown",
   "metadata": {},
   "source": [
    "### 导入数据集和需要的包"
   ]
  },
  {
   "cell_type": "code",
   "execution_count": 85,
   "metadata": {},
   "outputs": [
    {
     "data": {
      "text/html": [
       "<div>\n",
       "<style scoped>\n",
       "    .dataframe tbody tr th:only-of-type {\n",
       "        vertical-align: middle;\n",
       "    }\n",
       "\n",
       "    .dataframe tbody tr th {\n",
       "        vertical-align: top;\n",
       "    }\n",
       "\n",
       "    .dataframe thead th {\n",
       "        text-align: right;\n",
       "    }\n",
       "</style>\n",
       "<table border=\"1\" class=\"dataframe\">\n",
       "  <thead>\n",
       "    <tr style=\"text-align: right;\">\n",
       "      <th></th>\n",
       "      <th>fixed acidity</th>\n",
       "      <th>volatile acidity</th>\n",
       "      <th>citric acid</th>\n",
       "      <th>residual sugar</th>\n",
       "      <th>chlorides</th>\n",
       "      <th>free sulfur dioxide</th>\n",
       "      <th>total sulfur dioxide</th>\n",
       "      <th>density</th>\n",
       "      <th>pH</th>\n",
       "      <th>sulphates</th>\n",
       "      <th>alcohol</th>\n",
       "      <th>quality</th>\n",
       "    </tr>\n",
       "  </thead>\n",
       "  <tbody>\n",
       "    <tr>\n",
       "      <th>0</th>\n",
       "      <td>7.0</td>\n",
       "      <td>0.27</td>\n",
       "      <td>0.36</td>\n",
       "      <td>20.7</td>\n",
       "      <td>0.045</td>\n",
       "      <td>45.0</td>\n",
       "      <td>170.0</td>\n",
       "      <td>1.00100</td>\n",
       "      <td>3.00</td>\n",
       "      <td>0.45</td>\n",
       "      <td>8.8</td>\n",
       "      <td>6</td>\n",
       "    </tr>\n",
       "    <tr>\n",
       "      <th>1</th>\n",
       "      <td>6.3</td>\n",
       "      <td>0.30</td>\n",
       "      <td>0.34</td>\n",
       "      <td>1.6</td>\n",
       "      <td>0.049</td>\n",
       "      <td>14.0</td>\n",
       "      <td>132.0</td>\n",
       "      <td>0.99400</td>\n",
       "      <td>3.30</td>\n",
       "      <td>0.49</td>\n",
       "      <td>9.5</td>\n",
       "      <td>6</td>\n",
       "    </tr>\n",
       "    <tr>\n",
       "      <th>2</th>\n",
       "      <td>8.1</td>\n",
       "      <td>0.28</td>\n",
       "      <td>0.40</td>\n",
       "      <td>6.9</td>\n",
       "      <td>0.050</td>\n",
       "      <td>30.0</td>\n",
       "      <td>97.0</td>\n",
       "      <td>0.99510</td>\n",
       "      <td>3.26</td>\n",
       "      <td>0.44</td>\n",
       "      <td>10.1</td>\n",
       "      <td>6</td>\n",
       "    </tr>\n",
       "    <tr>\n",
       "      <th>3</th>\n",
       "      <td>7.2</td>\n",
       "      <td>0.23</td>\n",
       "      <td>0.32</td>\n",
       "      <td>8.5</td>\n",
       "      <td>0.058</td>\n",
       "      <td>47.0</td>\n",
       "      <td>186.0</td>\n",
       "      <td>0.99560</td>\n",
       "      <td>3.19</td>\n",
       "      <td>0.40</td>\n",
       "      <td>9.9</td>\n",
       "      <td>6</td>\n",
       "    </tr>\n",
       "    <tr>\n",
       "      <th>4</th>\n",
       "      <td>7.2</td>\n",
       "      <td>0.23</td>\n",
       "      <td>0.32</td>\n",
       "      <td>8.5</td>\n",
       "      <td>0.058</td>\n",
       "      <td>47.0</td>\n",
       "      <td>186.0</td>\n",
       "      <td>0.99560</td>\n",
       "      <td>3.19</td>\n",
       "      <td>0.40</td>\n",
       "      <td>9.9</td>\n",
       "      <td>6</td>\n",
       "    </tr>\n",
       "    <tr>\n",
       "      <th>...</th>\n",
       "      <td>...</td>\n",
       "      <td>...</td>\n",
       "      <td>...</td>\n",
       "      <td>...</td>\n",
       "      <td>...</td>\n",
       "      <td>...</td>\n",
       "      <td>...</td>\n",
       "      <td>...</td>\n",
       "      <td>...</td>\n",
       "      <td>...</td>\n",
       "      <td>...</td>\n",
       "      <td>...</td>\n",
       "    </tr>\n",
       "    <tr>\n",
       "      <th>4893</th>\n",
       "      <td>6.2</td>\n",
       "      <td>0.21</td>\n",
       "      <td>0.29</td>\n",
       "      <td>1.6</td>\n",
       "      <td>0.039</td>\n",
       "      <td>24.0</td>\n",
       "      <td>92.0</td>\n",
       "      <td>0.99114</td>\n",
       "      <td>3.27</td>\n",
       "      <td>0.50</td>\n",
       "      <td>11.2</td>\n",
       "      <td>6</td>\n",
       "    </tr>\n",
       "    <tr>\n",
       "      <th>4894</th>\n",
       "      <td>6.6</td>\n",
       "      <td>0.32</td>\n",
       "      <td>0.36</td>\n",
       "      <td>8.0</td>\n",
       "      <td>0.047</td>\n",
       "      <td>57.0</td>\n",
       "      <td>168.0</td>\n",
       "      <td>0.99490</td>\n",
       "      <td>3.15</td>\n",
       "      <td>0.46</td>\n",
       "      <td>9.6</td>\n",
       "      <td>5</td>\n",
       "    </tr>\n",
       "    <tr>\n",
       "      <th>4895</th>\n",
       "      <td>6.5</td>\n",
       "      <td>0.24</td>\n",
       "      <td>0.19</td>\n",
       "      <td>1.2</td>\n",
       "      <td>0.041</td>\n",
       "      <td>30.0</td>\n",
       "      <td>111.0</td>\n",
       "      <td>0.99254</td>\n",
       "      <td>2.99</td>\n",
       "      <td>0.46</td>\n",
       "      <td>9.4</td>\n",
       "      <td>6</td>\n",
       "    </tr>\n",
       "    <tr>\n",
       "      <th>4896</th>\n",
       "      <td>5.5</td>\n",
       "      <td>0.29</td>\n",
       "      <td>0.30</td>\n",
       "      <td>1.1</td>\n",
       "      <td>0.022</td>\n",
       "      <td>20.0</td>\n",
       "      <td>110.0</td>\n",
       "      <td>0.98869</td>\n",
       "      <td>3.34</td>\n",
       "      <td>0.38</td>\n",
       "      <td>12.8</td>\n",
       "      <td>7</td>\n",
       "    </tr>\n",
       "    <tr>\n",
       "      <th>4897</th>\n",
       "      <td>6.0</td>\n",
       "      <td>0.21</td>\n",
       "      <td>0.38</td>\n",
       "      <td>0.8</td>\n",
       "      <td>0.020</td>\n",
       "      <td>22.0</td>\n",
       "      <td>98.0</td>\n",
       "      <td>0.98941</td>\n",
       "      <td>3.26</td>\n",
       "      <td>0.32</td>\n",
       "      <td>11.8</td>\n",
       "      <td>6</td>\n",
       "    </tr>\n",
       "  </tbody>\n",
       "</table>\n",
       "<p>4898 rows × 12 columns</p>\n",
       "</div>"
      ],
      "text/plain": [
       "      fixed acidity  volatile acidity  citric acid  residual sugar  chlorides  \\\n",
       "0               7.0              0.27         0.36            20.7      0.045   \n",
       "1               6.3              0.30         0.34             1.6      0.049   \n",
       "2               8.1              0.28         0.40             6.9      0.050   \n",
       "3               7.2              0.23         0.32             8.5      0.058   \n",
       "4               7.2              0.23         0.32             8.5      0.058   \n",
       "...             ...               ...          ...             ...        ...   \n",
       "4893            6.2              0.21         0.29             1.6      0.039   \n",
       "4894            6.6              0.32         0.36             8.0      0.047   \n",
       "4895            6.5              0.24         0.19             1.2      0.041   \n",
       "4896            5.5              0.29         0.30             1.1      0.022   \n",
       "4897            6.0              0.21         0.38             0.8      0.020   \n",
       "\n",
       "      free sulfur dioxide  total sulfur dioxide  density    pH  sulphates  \\\n",
       "0                    45.0                 170.0  1.00100  3.00       0.45   \n",
       "1                    14.0                 132.0  0.99400  3.30       0.49   \n",
       "2                    30.0                  97.0  0.99510  3.26       0.44   \n",
       "3                    47.0                 186.0  0.99560  3.19       0.40   \n",
       "4                    47.0                 186.0  0.99560  3.19       0.40   \n",
       "...                   ...                   ...      ...   ...        ...   \n",
       "4893                 24.0                  92.0  0.99114  3.27       0.50   \n",
       "4894                 57.0                 168.0  0.99490  3.15       0.46   \n",
       "4895                 30.0                 111.0  0.99254  2.99       0.46   \n",
       "4896                 20.0                 110.0  0.98869  3.34       0.38   \n",
       "4897                 22.0                  98.0  0.98941  3.26       0.32   \n",
       "\n",
       "      alcohol  quality  \n",
       "0         8.8        6  \n",
       "1         9.5        6  \n",
       "2        10.1        6  \n",
       "3         9.9        6  \n",
       "4         9.9        6  \n",
       "...       ...      ...  \n",
       "4893     11.2        6  \n",
       "4894      9.6        5  \n",
       "4895      9.4        6  \n",
       "4896     12.8        7  \n",
       "4897     11.8        6  \n",
       "\n",
       "[4898 rows x 12 columns]"
      ]
     },
     "execution_count": 85,
     "metadata": {},
     "output_type": "execute_result"
    }
   ],
   "source": [
    "import pandas as pd\n",
    "import numpy as np\n",
    "data = pd.read_csv(\"winequality-white.csv\")\n",
    "data"
   ]
  },
  {
   "cell_type": "markdown",
   "metadata": {},
   "source": [
    "### 对数据集进行预处理"
   ]
  },
  {
   "cell_type": "code",
   "execution_count": 86,
   "metadata": {},
   "outputs": [
    {
     "name": "stdout",
     "output_type": "stream",
     "text": [
      "(4898, 11)\n"
     ]
    }
   ],
   "source": [
    "def Normalization(x):\n",
    "    x = (x - np.min(x, 0)) / (np.max(x, 0) - np.min(x, 0))\n",
    "    return x\n",
    "\n",
    "def Standardization(x):\n",
    "    return (x - np.mean(x, 0)) / np.std(x, 0)\n",
    "\n",
    "# 提取特征和标签\n",
    "# 所有行的0到最后第二列的数据，为特征\n",
    "X = data.iloc[:, 0:-1]  #\n",
    "X = Normalization(X)\n",
    "print(X.shape)\n",
    "#所有行的最后一列的数据为标签\n",
    "Y = data.iloc[:, -1]"
   ]
  },
  {
   "cell_type": "code",
   "execution_count": 87,
   "metadata": {},
   "outputs": [
    {
     "data": {
      "image/png": "[encoded data removed]",
      "text/plain": [
       "<Figure size 640x480 with 1 Axes>"
      ]
     },
     "metadata": {},
     "output_type": "display_data"
    }
   ],
   "source": [
    "# 可视化中心化后的sulphates特征\n",
    "import matplotlib.pyplot as plt\n",
    "plt.hist(X[\"sulphates\"])\n",
    "plt.show()"
   ]
  },
  {
   "cell_type": "code",
   "execution_count": 88,
   "metadata": {},
   "outputs": [
    {
     "data": {
      "text/plain": [
       "(4898, 12)"
      ]
     },
     "execution_count": 88,
     "metadata": {},
     "output_type": "execute_result"
    }
   ],
   "source": [
    "# 这里注意一个小trick：回归系数会比特征x多一维，为了向量相乘方便，可以在训练集X左侧添加全为1的一列\n",
    "data0 = pd.concat([pd.DataFrame(np.ones(X.shape[0]), columns=['x0']), X], axis=1)\n",
    "data0\n",
    "# 将索引随机打乱\n",
    "row_indices=np.random.permutation(data0.shape[0])\n",
    "# 查看打乱后的索引\n",
    "\n",
    "data0=pd.concat([X,Y],axis=1)\n",
    "data0.shape"
   ]
  },
  {
   "cell_type": "code",
   "execution_count": 89,
   "metadata": {},
   "outputs": [],
   "source": [
    "#分层 随机 选取训练样本\n",
    "def sample_split(data, train_ratio=0.8, label='quality', seed=None):\n",
    "    xy_test=None\n",
    "    # 根据分类标签分组\n",
    "    xy_train = data.groupby(label).apply(lambda x: x.sample(frac=train_ratio, random_state=seed))\n",
    "    \n",
    "    # 将xy_train每行索引存入列表，为了找到在data中对应的行，删除得到test数据集\n",
    "    list_index=[]\n",
    "    for i in range(0,xy_train.shape[0]):\n",
    "        list_index.append((xy_train.iloc[i].name)[1])\n",
    "    xy_test=np.delete(data.values,list_index,axis=0)\n",
    "    \n",
    "    # 将训练集打乱顺序\n",
    "    xy_train = xy_train.sample(frac=1, random_state=seed)\n",
    "    xy_train.reset_index(drop=True, inplace=True)\n",
    "    \n",
    "    return xy_train, xy_test\n",
    "\n",
    "# 训练集和测试集\n",
    "train, test = sample_split(data0)\n",
    "test=pd.DataFrame(test)\n",
    "# 提取特征和标签\n",
    "x_temp= train.iloc[:,:-1]\n",
    "y=train.iloc[:, -1]\n",
    "\n",
    "# 这里注意一个小trick：回归系数会比特征x多一维，为了向量相乘方便，可以在训练集X左侧添加全为1的一列\n",
    "x_final = pd.concat([pd.DataFrame(np.ones(x_temp.shape[0]), columns=['x0']), x_temp], axis=1)\n",
    "size, feature_num = x_final.shape\n",
    "\n",
    "# 便于后续计算，将特征矩阵和分类结果都由dataframe转换为二维ndarray：\n",
    "x_train= x_final.values\n",
    "y_train = y.values.reshape(y.shape[0],1)\n",
    "x = test.iloc[:,:-1]\n",
    "y = test.iloc[:, -1]\n",
    "x = pd.concat([pd.DataFrame(np.ones(x.shape[0]), columns=['x0']), x], axis=1)\n",
    "test_x = x.values\n",
    "test_y = y.values.reshape(y.shape[0],1)"
   ]
  },
  {
   "cell_type": "code",
   "execution_count": 90,
   "metadata": {},
   "outputs": [
    {
     "data": {
      "text/plain": [
       "array([0.12033116, 0.53005298, 0.48557893, 0.30577671, 0.51539151,\n",
       "       0.09538449, 0.93283516, 0.84711034, 0.34956335, 0.67292336,\n",
       "       0.10878372, 0.14719715])"
      ]
     },
     "execution_count": 90,
     "metadata": {},
     "output_type": "execute_result"
    }
   ],
   "source": [
    "# 初始化回归系数\n",
    "W_init = np.random.rand(feature_num, 1)\n",
    "W_init.reshape(feature_num)"
   ]
  },
  {
   "cell_type": "code",
   "execution_count": 91,
   "metadata": {},
   "outputs": [
    {
     "name": "stdout",
     "output_type": "stream",
     "text": [
      "批量梯度下降训练集mse： 0.7601427443892959\n"
     ]
    }
   ],
   "source": [
    "import matplotlib.pyplot as plt\n",
    "\n",
    "def compute_mse(x,y,theta):\n",
    "    return np.mean((x@theta-y)**2)\n",
    "\n",
    "#批量梯度下降\n",
    "def gradient_descent_runner(x, y, theta, learning_ratio=0.01, max_iter=10000, change_ratio=1e-4, n_unchange=5):\n",
    "    n_iter = 0\n",
    "    no_change = 0\n",
    "    mses = []\n",
    "    random_mse=compute_mse(x,y,theta)\n",
    "    mses.append(random_mse)\n",
    "    # 停止条件：\n",
    "    # 1.到达最大迭代次数\n",
    "    # 2.边化率太小\n",
    "    while n_iter < max_iter:\n",
    "        n_iter += 1\n",
    "        theta = learning_ratio/size * x.T@(y - x@theta) + theta \n",
    "        mse_temp = compute_mse(x,y,theta)\n",
    "        if abs(mse_temp - mses[-1]) < change_ratio:\n",
    "            no_change += 1\n",
    "            if no_change >= n_unchange:\n",
    "                break\n",
    "        else:\n",
    "            no_change = 0\n",
    "        mses.append(mse_temp)\n",
    "    return theta, mses\n",
    "\n",
    "\n",
    "w_gd, mses_gd = gradient_descent_runner(x_train,y_train,W_init, learning_ratio=0.01, max_iter=1000, change_ratio=1e-19, n_unchange=5)\n",
    "# mses_gd\n",
    "print(\"批量梯度下降训练集mse：\",mses_gd[-1])"
   ]
  },
  {
   "cell_type": "code",
   "execution_count": 92,
   "metadata": {},
   "outputs": [
    {
     "name": "stdout",
     "output_type": "stream",
     "text": [
      "随机梯度下降训练集mse： 0.8070001168401615\n"
     ]
    }
   ],
   "source": [
    "# 随机梯度下降\n",
    "def rand_gradient_descent_runner(x, y, theta, learning_ratio=0.01, max_iter=10000, change_ratio=1e-6, n_unchange=5):\n",
    "  n_iter = 0\n",
    "  no_change = 0\n",
    "  mses = []\n",
    "  random_mse=compute_mse(x,y,theta)\n",
    "  mses.append(random_mse)\n",
    "  while n_iter < max_iter:\n",
    "      n_iter += 1\n",
    "      i = np.random.randint(size)\n",
    "      tmp = (y[i] - x[i]@theta)\n",
    "      theta = learning_ratio * x[i].reshape(feature_num,1)*tmp + theta\n",
    "      mse_temp = compute_mse(x,y,theta)\n",
    "      if abs(mse_temp - mses[-1]) < change_ratio:\n",
    "          no_change += 1\n",
    "          if no_change >= n_unchange:\n",
    "              break\n",
    "      else:\n",
    "          no_change = 0\n",
    "      mses.append(mse_temp)\n",
    "  return theta, mses\n",
    "\n",
    "w_sgd, mses_sgd = rand_gradient_descent_runner(x_train,y_train,W_init, learning_ratio=0.01, max_iter=1000, change_ratio=1e-4, n_unchange=5)\n",
    "print(\"随机梯度下降训练集mse：\",mses_sgd[-1])"
   ]
  },
  {
   "cell_type": "code",
   "execution_count": 96,
   "metadata": {},
   "outputs": [
    {
     "data": {
      "text/plain": [
       "Text(0.5, 1.0, 'mse with different n_iters')"
      ]
     },
     "execution_count": 96,
     "metadata": {},
     "output_type": "execute_result"
    },
    {
     "data": {
      "image/png": "[encoded data removed]",
      "text/plain": [
       "<Figure size 640x480 with 1 Axes>"
      ]
     },
     "metadata": {},
     "output_type": "display_data"
    }
   ],
   "source": [
    "import matplotlib.pyplot as plt\n",
    "fig, axes = plt.subplots()\n",
    "axes.plot(np.arange(len(mses_gd)), mses_gd, 'r')\n",
    "axes.plot(np.arange(len(mses_sgd)), mses_sgd, 'b')\n",
    "axes.set_xlabel('n_iters')\n",
    "axes.set_ylabel('mse')\n",
    "axes.set_title('mse with different n_iters')"
   ]
  },
  {
   "cell_type": "code",
   "execution_count": 98,
   "metadata": {},
   "outputs": [
    {
     "data": {
      "text/plain": [
       "Text(0.5, 1.0, 'mse with different n_iters')"
      ]
     },
     "execution_count": 98,
     "metadata": {},
     "output_type": "execute_result"
    },
    {
     "data": {
      "image/png": "[encoded data removed]",
      "text/plain": [
       "<Figure size 640x480 with 1 Axes>"
      ]
     },
     "metadata": {},
     "output_type": "display_data"
    }
   ],
   "source": [
    "# learning_ratio_list=[0.001,0.005,0.01,0.05,0.1,0.3,0.5]\n",
    "learning_ratio_list=(0.001,0.002,0.004,0.005,0.008,0.01,0.05,0.1,0.11)\n",
    "gd_mses=[]\n",
    "sgd_mses=[]\n",
    "# gd_mses.append(compute_mse(x_train,y_train,W_init))    \n",
    "# sgd_mses.append(compute_mse(x_train,y_train,W_init))\n",
    "\n",
    "for l_r in learning_ratio_list:\n",
    "    w_gd,mses = gradient_descent_runner(x_train,y_train,theta=W_init, learning_ratio=l_r)\n",
    "    w_sgd,smses = rand_gradient_descent_runner(x_train,y_train,theta=W_init,learning_ratio=l_r)\n",
    "    gd_mses.append(compute_mse(x_train,y_train,w_gd))    \n",
    "    sgd_mses.append(compute_mse(x_train,y_train,w_sgd))\n",
    "# gd_mses\n",
    "sgd_mses\n",
    "import matplotlib.pyplot as plt\n",
    "fig, axes = plt.subplots()\n",
    "axes.plot(learning_ratio_list, gd_mses, 'r')\n",
    "axes.plot(learning_ratio_list, sgd_mses, 'b')\n",
    "axes.set_xlabel('n_iters')\n",
    "axes.set_ylabel('mse')\n",
    "axes.set_title('mse with different n_iters')"
   ]
  },
  {
   "cell_type": "markdown",
   "metadata": {},
   "source": [
    "#### 回归模型在机器学习和统计学上的差异\n",
    "机器学习模型旨在使最准确的预测成为可能；统计模型被设计用于推断变量之间的关系。\n",
    "\n",
    "最明显的例子是线性回归。线性回归是一种统计方法，我们训练线性回归量并获得与统计回归模型相同的结果，旨在最小化数据点之间的平方误差。\n",
    "\n",
    "在一个案例中，我们做了“训练”模型的事情，其中涉及使用数据的一个子集。我们不知道模型将如何执行，直到在训练期间能够“测试”出此数据不存在的、被称为测试集的其他数据。在这种情况下，机器学习的目的是在测试集上获得最佳性能。\n",
    "\n",
    "对于统计模型，我们只要找出可以最小化所有数据的均方误差，无需训练，也无需测试。\n",
    "\n",
    "一般在研究中，模型是表征数据与结果变量之间的关系，而不是对未来数据进行预测。我们将此过程称为统计推断，而不是机器学习预测。但我们仍然可以使用此模型进行预测，但评估模型的方式不涉及测试集，而是涉及评估模型参数的重要性和稳健性。\n",
    "\n",
    "机器学习的目的是获得可以进行可重复预测的模型。我们通常不关心模型是否可解释，机器学习只看重结果。而统计建模更多的是发现变量之间的关系和这些关系的重要性，同时也适合预测。"
   ]
  },
  {
   "cell_type": "code",
   "execution_count": 100,
   "metadata": {},
   "outputs": [
    {
     "name": "stdout",
     "output_type": "stream",
     "text": [
      "(3918, 12)\n",
      "(3918, 1)\n",
      "平均训练mse:\n",
      "0.564304007337339\n",
      "平均测试mse:\n",
      "0.5647409131246914\n"
     ]
    }
   ],
   "source": [
    "# 岭回归求解回归参数\n",
    "# 解析法\n",
    "def compute_mse(x,y,theta):\n",
    "    return np.mean((x@theta-y)**2)\n",
    "\n",
    "def weights(x,y,lam=0.2):\n",
    "    x_mat= np.mat(x)\n",
    "    y_mat =np.mat(y)\n",
    "    xtx=x_mat.T*x_mat\n",
    "    rxtx = xtx+lam*np.eye(x_mat.shape[1])\n",
    "    if np.linalg.det(rxtx) == 0.0:\n",
    "        print(\"This matrix cannot do inverse, plz change lambda.\")\n",
    "        return \n",
    "    \n",
    "    theta = rxtx.I*x_mat.T*y_mat\n",
    "    return theta\n",
    "\n",
    "w_t = weights(x_train,y_train)\n",
    "# !!! 岭系数\n",
    "w=np.asarray(w_t)\n",
    "print(x_train.shape)\n",
    "print(y_train.shape)\n",
    "print(\"平均训练mse:\")\n",
    "print(compute_mse(x_train,y_train,w))\n",
    "print(\"平均测试mse:\")\n",
    "print(compute_mse(test_x,test_y,w))\n"
   ]
  }
 ],
 "metadata": {
  "kernelspec": {
   "display_name": "Python 3.10.7 64-bit",
   "language": "python",
   "name": "python3"
  },
  "language_info": {
   "codemirror_mode": {
    "name": "ipython",
    "version": 3
   },
   "file_extension": ".py",
   "mimetype": "text/x-python",
   "name": "python",
   "nbconvert_exporter": "python",
   "pygments_lexer": "ipython3",
   "version": "3.10.7"
  },
  "vscode": {
   "interpreter": {
    "hash": "916dbcbb3f70747c44a77c7bcd40155683ae19c65e1c03b4aa3499c5328201f1"
   }
  }
 },
 "nbformat": 4,
 "nbformat_minor": 2
}
