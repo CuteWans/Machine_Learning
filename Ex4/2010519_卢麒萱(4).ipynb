{
 "cells": [
  {
   "cell_type": "markdown",
   "metadata": {},
   "source": [
    "# 机器学习作业:朴素贝叶斯分类器\n",
    "- 姓名：卢麒萱\n",
    "- 学号：2010519\n",
    "- 专业：计算机科学与技术"
   ]
  },
  {
   "cell_type": "markdown",
   "metadata": {},
   "source": [
    "### 实验要求\n",
    "#### 基本要求：\n",
    "1. 采用分层采样的方式将数据集划分为训练集和测试集。\n",
    "2. 给定编写一个朴素贝叶斯分类器，对测试集进行预测，计算分类准确率。\n",
    "\n",
    "#### 中级要求：\n",
    "使用测试集评估模型，得到混淆矩阵，精度，召回率，F值。\n",
    "\n",
    "#### 高级要求：\n",
    "在中级要求的基础上画出三类数据的ROC曲线，并求出AUC值。"
   ]
  },
  {
   "cell_type": "markdown",
   "metadata": {},
   "source": [
    "#### 实验重点函数说明"
   ]
  },
  {
   "cell_type": "code",
   "execution_count": 1,
   "metadata": {},
   "outputs": [],
   "source": [
    "#导入相关库\n",
    "import math\n",
    "import numpy as np  \n",
    "import pandas as pd\n",
    "from matplotlib import pyplot as plt\n",
    "import seaborn as sns\n",
    "from sklearn.metrics import confusion_matrix\n",
    "from sklearn.metrics import classification_report"
   ]
  },
  {
   "cell_type": "markdown",
   "metadata": {},
   "source": [
    "- `dataread(filename)`\n",
    "\n",
    "   将数据读取到一个数组中\n",
    "\n",
    "   这里使用一个简单地for循环判断数据中是否有缺失值，data中存储的是以14个数字为一组的样本数据集。"
   ]
  },
  {
   "cell_type": "code",
   "execution_count": 2,
   "metadata": {},
   "outputs": [],
   "source": [
    "def dataread(filename):\n",
    "    data=[]\n",
    "    f=open(filename,'r')\n",
    "    for line in f.readlines():\n",
    "        data.append(line.replace('\\n','').split(','))\n",
    "    data=[[eval(s) for s in d] for d in data]\n",
    "    \n",
    "    for d in data:\n",
    "        if(len(d)<14):\n",
    "            print(\"error\")\n",
    "\n",
    "    f.close()\n",
    "    print(\"{}中总共记载了{}个样本:\".format(filename,len(data)))\n",
    "    return data"
   ]
  },
  {
   "cell_type": "markdown",
   "metadata": {},
   "source": [
    "- `classify0(data)`\n",
    "\n",
    "  对预处理后的数据进行分类"
   ]
  },
  {
   "cell_type": "code",
   "execution_count": 3,
   "metadata": {},
   "outputs": [],
   "source": [
    "def classify0(data):\n",
    "    types=[[],[],[]]\n",
    "    for d in data:\n",
    "        types[d[0]-1].append(d[1:])\n",
    "    return types"
   ]
  },
  {
   "cell_type": "markdown",
   "metadata": {},
   "source": [
    "- `bayes_classificate(train_data,test_data,types,pre_y,test_y)`\n",
    "\n",
    "  单次朴素贝叶斯分类"
   ]
  },
  {
   "cell_type": "code",
   "execution_count": 4,
   "metadata": {},
   "outputs": [],
   "source": [
    "def bayes_classificate(train_data,test_data,types,pre_y,test_y):\n",
    "\t# \tpre_y和test_y用来储存实际标签和预测标签，用于后面的参数计算和混淆矩阵的生成\n",
    "    data_num = sum([len(types[i]) for i in range(3)])\n",
    "    means=[np.mean(train_data[i],axis=0) for i in range(3)] #均值向量\n",
    "    std=[np.std(train_data[i],axis=0)for i in range(3)]     #标准差\n",
    "\n",
    "    wrong_num = 0\n",
    "    for i in range(3):\n",
    "        for t in test_data[i]:                  #两层循环：从每一类取每一个测试样本\n",
    "            my_type = []\n",
    "            for j in range(3):\n",
    "                #由于数据集中所有的属性都是连续值，\n",
    "                #连续值的似然估计可以按照高斯分布来计算：\n",
    "                temp = np.log((2*math.pi) ** 0.5 * std[j])\n",
    "                temp += np.power(t - means[j], 2) / (2 * np.power(std[j], 2))\n",
    "                temp = np.sum(temp)\n",
    "                temp = -1*temp+math.log(len(types[j])/data_num)\n",
    "                my_type.append(temp)        #这里将所有score保存\n",
    "            pre_type = my_type.index(max(my_type))\n",
    "            pre_y.append(pre_type)\n",
    "            test_y.append(i)\n",
    "            #取分值最大的为预测类别\n",
    "            if pre_type != i:                               #统计错误数\n",
    "                wrong_num+=1\n",
    "    return wrong_num\n"
   ]
  },
  {
   "cell_type": "markdown",
   "metadata": {},
   "source": [
    "- `cross_check(types)`\n",
    "\n",
    "  十折交叉，对数据进行分层划分"
   ]
  },
  {
   "cell_type": "code",
   "execution_count": 5,
   "metadata": {},
   "outputs": [],
   "source": [
    "def cross_check(types):\n",
    "    test_data=[[],[],[]]\n",
    "    train_data=[[],[],[]]\n",
    "    test_y=[]\n",
    "    pre_y=[]\n",
    "    test_len = [round(len(types[i]) / 10) for i in range(3)]\n",
    "    print(test_len)\n",
    "    data_num = sum([len(types[i]) for i in range(3)])\n",
    "\n",
    "    wrong_num = 0\n",
    "    for i in range(10):        #十折交叉，并且对每一类数据分层\n",
    "        for j in range(3):\n",
    "            #if (i+1)*test_len[j]>len(types[j]):\n",
    "            if i==9:\n",
    "                test_data[j] = np.mat(types[j][i*test_len[j]:])\n",
    "                train_data[j] = np.mat(types[j][:i*test_len[j]])\n",
    "            else:\n",
    "                test_data[j] = np.mat(types[j][i*test_len[j]:\n",
    "                (i+1)*test_len[j]])\n",
    "                train_data[j] = np.mat(types[j][:i*test_len[j]]+\n",
    "                                   types[j][(i+1)*test_len[j]:])\n",
    "        wrong_num+=bayes_classificate(train_data,test_data,types,pre_y,test_y)\n",
    "    print(\"准确率:\"+str(1-wrong_num/data_num))\n",
    "    return test_y, pre_y\n",
    "\n"
   ]
  },
  {
   "cell_type": "markdown",
   "metadata": {},
   "source": [
    "- `confusion_mat(test_y,pre_y)`\n",
    "\n",
    "  根据预测结果使用相应的库绘制混淆矩阵的图形以及输出对应的参数"
   ]
  },
  {
   "cell_type": "code",
   "execution_count": 6,
   "metadata": {},
   "outputs": [],
   "source": [
    "#根据预测结果使用相应的库绘制混淆矩阵的图形以及输出对应的参数\n",
    "def confusion_mat(test_y,pre_y):\n",
    "    label = ['1', '2', '3']\n",
    "    # 生成混淆矩阵\n",
    "    conf_mat = confusion_matrix(test_y, pre_y)\n",
    "    print(\"conf_mat:\\n\", conf_mat)\n",
    "    print(classification_report(test_y,pre_y,target_names=label))\n",
    "\n",
    "    fig, ax = plt.subplots(figsize=(10, 8))\n",
    "    sns.heatmap(conf_mat, annot=True, fmt='d',\n",
    "                xticklabels=label, yticklabels=label)\n",
    "    plt.ylabel('true condition', fontsize=18)\n",
    "    plt.xlabel('predicted condition', fontsize=18)\n",
    "    plt.show()\n"
   ]
  },
  {
   "cell_type": "markdown",
   "metadata": {},
   "source": [
    "- `confusion_mat1(test_y,pre_y)`\n",
    "\n",
    "  自定义函数，根据预测结果计算混淆矩阵的以及对应的参数\n",
    "\n",
    "  在这里`confusion`是混淆矩阵，其中`confusion[i][j]`表示实际类别为`i+1`，预测类别为`j+1`的样本的数量"
   ]
  },
  {
   "cell_type": "code",
   "execution_count": 7,
   "metadata": {},
   "outputs": [],
   "source": [
    "# 单次试验求不同准则下的分类误差\n",
    "def confusion_mat1(test_y,pre_y):\n",
    "    confusion = []\n",
    "    for i in range(3):\n",
    "        confusion.append([0] * 3)\n",
    "    for i in range(len(test_y)):\n",
    "        confusion[test_y[i]][pre_y[i]] += 1\n",
    "    count = np.sum(confusion)\n",
    "    confusion=np.array(confusion)\n",
    "    print(\"conf_mat:\\n\",confusion)\n",
    "    precision = [round(confusion[i][i]/np.sum(confusion,axis=0)[i],2) \n",
    "    for i in range(3)]\n",
    "    recall = [round(confusion[i][i]/np.sum(confusion,axis=1)[i],2) \n",
    "    for i in range(3)]\n",
    "    accuracy = round(np.sum([confusion[i][i] \n",
    "    for i in range(3)])/count,2)\n",
    "    F1_score= [round(2*precision[i]*recall[i]/(precision[i]+recall[i]),2) \n",
    "    for i in range(3)]\n",
    "    support = np.sum(confusion,axis=1)\n",
    "    print(\"            precision   recall   accuracy  f1-score   support\")\n",
    "    for i in range(3):\n",
    "        print(\"       {}     {}    {}    {}    {}     {}\"\n",
    "        \t.format(i+1,precision[i],recall[i],recall[i],F1_score[i],support[i]))\n",
    "    print(\"avg/total:    {}    {}    {}    {}     {}\"\n",
    "    .format(round(np.sum([precision[i]*support[i] \n",
    "    for i in range(3)])/count,2),\n",
    "    accuracy,accuracy,round(np.sum([F1_score[i]*support[i] \n",
    "    for i in range(3)])/count,2),\n",
    "    count))\n",
    "    return confusion\n"
   ]
  },
  {
   "cell_type": "markdown",
   "metadata": {},
   "source": [
    "#### 基本要求"
   ]
  },
  {
   "cell_type": "code",
   "execution_count": 8,
   "metadata": {},
   "outputs": [
    {
     "name": "stdout",
     "output_type": "stream",
     "text": [
      "./wine.data中总共记载了178个样本:\n",
      "[6, 7, 5]\n",
      "准确率:0.9775280898876404\n"
     ]
    }
   ],
   "source": [
    "data = dataread(filename=\"./wine.data\")\n",
    "types = classify0(data)\n",
    "test_y, pre_y = cross_check(types)"
   ]
  },
  {
   "cell_type": "markdown",
   "metadata": {},
   "source": [
    "#### 中级要求"
   ]
  },
  {
   "cell_type": "code",
   "execution_count": 9,
   "metadata": {},
   "outputs": [
    {
     "name": "stdout",
     "output_type": "stream",
     "text": [
      "conf_mat:\n",
      " [[57  2  0]\n",
      " [ 0 69  2]\n",
      " [ 0  0 48]]\n",
      "              precision    recall  f1-score   support\n",
      "\n",
      "           1       1.00      0.97      0.98        59\n",
      "           2       0.97      0.97      0.97        71\n",
      "           3       0.96      1.00      0.98        48\n",
      "\n",
      "    accuracy                           0.98       178\n",
      "   macro avg       0.98      0.98      0.98       178\n",
      "weighted avg       0.98      0.98      0.98       178\n",
      "\n"
     ]
    },
    {
     "data": {
      "image/png": "[encoded data removed]",
      "text/plain": [
       "<Figure size 1000x800 with 2 Axes>"
      ]
     },
     "metadata": {},
     "output_type": "display_data"
    },
    {
     "name": "stdout",
     "output_type": "stream",
     "text": [
      "conf_mat:\n",
      " [[57  2  0]\n",
      " [ 0 69  2]\n",
      " [ 0  0 48]]\n",
      "            precision   recall   accuracy  f1-score   support\n",
      "       1     1.0    0.97    0.97    0.98     59\n",
      "       2     0.97    0.97    0.97    0.97     71\n",
      "       3     0.96    1.0    1.0    0.98     48\n",
      "avg/total:    0.98    0.98    0.98    0.98     178\n"
     ]
    }
   ],
   "source": [
    "confusion_mat(test_y, pre_y)\n",
    "mat = confusion_mat1(test_y, pre_y)#自定义"
   ]
  },
  {
   "cell_type": "markdown",
   "metadata": {},
   "source": [
    "#### 高级要求"
   ]
  },
  {
   "cell_type": "markdown",
   "metadata": {},
   "source": [
    "对于三分类问题为什么要求ROC曲线还不理解...只理解了TP、FP、\n",
    "TN、FN、TPR、FPR、ROC、AUC的概念，代码也不清楚需要怎么实现。"
   ]
  },
  {
   "cell_type": "code",
   "execution_count": 10,
   "metadata": {},
   "outputs": [
    {
     "name": "stdout",
     "output_type": "stream",
     "text": [
      "[[57  2  0]\n",
      " [ 0 69  2]\n",
      " [ 0  0 48]]\n"
     ]
    },
    {
     "data": {
      "text/plain": [
       "Text(0, 0.5, 'TPR')"
      ]
     },
     "execution_count": 10,
     "metadata": {},
     "output_type": "execute_result"
    },
    {
     "data": {
      "image/png": "[encoded data removed]",
      "text/plain": [
       "<Figure size 640x480 with 1 Axes>"
      ]
     },
     "metadata": {},
     "output_type": "display_data"
    }
   ],
   "source": [
    "TP = []\n",
    "FP = []\n",
    "TN = []\n",
    "FN = []\n",
    "TPR = []\n",
    "FPR = []\n",
    "print(mat)\n",
    "for i in range(3):\n",
    "    TP.append(mat[i][i])\n",
    "    FP.append(0)\n",
    "    FN.append(0)\n",
    "    TN.append(0)\n",
    "    for j in range(3):\n",
    "        if j == i:\n",
    "            continue\n",
    "        FP[i] += mat[j][i]\n",
    "        FN[i] += mat[i][j]\n",
    "        for k in range(3):\n",
    "            if k == i:\n",
    "                continue\n",
    "            TN[i] += mat[j][k]\n",
    "    TPR.append(TP[i] / (TP[i] + FN[i]))\n",
    "    FPR.append(FP[i] / (TN[i] + FP[i]))\n",
    "plt.plot(FPR, TPR, label = 'class 1')\n",
    "plt.xlabel(\"FPR\")\n",
    "plt.ylabel(\"TPR\")"
   ]
  }
 ],
 "metadata": {
  "kernelspec": {
   "display_name": "Python 3.10.7 64-bit",
   "language": "python",
   "name": "python3"
  },
  "language_info": {
   "codemirror_mode": {
    "name": "ipython",
    "version": 3
   },
   "file_extension": ".py",
   "mimetype": "text/x-python",
   "name": "python",
   "nbconvert_exporter": "python",
   "pygments_lexer": "ipython3",
   "version": "3.10.7"
  },
  "orig_nbformat": 4,
  "vscode": {
   "interpreter": {
    "hash": "916dbcbb3f70747c44a77c7bcd40155683ae19c65e1c03b4aa3499c5328201f1"
   }
  }
 },
 "nbformat": 4,
 "nbformat_minor": 2
}
