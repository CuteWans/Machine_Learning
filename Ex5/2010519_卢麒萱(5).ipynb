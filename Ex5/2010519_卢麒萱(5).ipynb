{
 "cells": [
  {
   "cell_type": "markdown",
   "metadata": {},
   "source": [
    "# 机器学习作业:层次聚类\n",
    "- 姓名：卢麒萱\n",
    "- 学号：2010519\n",
    "- 专业：计算机科学与技术"
   ]
  },
  {
   "cell_type": "markdown",
   "metadata": {},
   "source": [
    "### 实验要求\n",
    "#### 基本要求：\n",
    "a) 实现single-linkage层次聚类算法； \n",
    "\n",
    "b) 实现complete-linkage层次聚类算法；\n",
    "\n",
    "#### 中级要求：\n",
    "a) 实现average-linkage层次聚类算法； \n",
    "\n",
    "b) 将上述三种算法的性能进行简要对比；\n",
    "\n",
    "#### 高级要求：\n",
    "通过变换聚类簇的个数，测试上述三种算法的性能，并给出分析；"
   ]
  },
  {
   "cell_type": "markdown",
   "metadata": {},
   "source": [
    "#### 实验重点函数说明"
   ]
  },
  {
   "cell_type": "markdown",
   "metadata": {},
   "source": [
    "```\n",
    "1.create_sample(mean, cov, num, label)\n",
    "\n",
    "  #生成样本均值向量为mean，协方差矩阵为cov的，数量为num，标签为label的数据集\n",
    "\n",
    "2.PoMinkowski(x1,x2,dimension,p=2)\n",
    "\n",
    "  #两样本点之间Minkowski距离，dimension表示样本的特征维数，p=2时，计算的是欧氏距离\n",
    "\n",
    "3.clusingle(clu1,clu2,dimension,p=2)\n",
    "\n",
    "  #最短距离/单连接 (single linkage)\n",
    "\n",
    "4.clucomplete(clu1,clu2,dimension,p=2)\n",
    "\n",
    "  #最⻓距离/全连接 (complete linkage)\n",
    "\n",
    "5.cluaverage(clu1,clu2,dimension,p=2)\n",
    "\n",
    "  #平均距离 (average linkage)\n",
    "\n",
    "6.discluster(cluster,dimension,kind=0,p=2)\n",
    "\n",
    "  #类距离矩阵的生成,kind表示使用3,4,5中的哪种方法生成类距离矩阵\n",
    "\n",
    "7.dismin(distance)\n",
    "\n",
    "  #根据类距离矩阵确定距离最近的两个类\n",
    "\n",
    "8.update(cluster,res)\n",
    "\n",
    "  #更新类，将cluster中的res编号的两个类合并\n",
    "\n",
    "9.datastat(cluster)\n",
    "\n",
    "  #数据统计，统计合并完成后生成的三个类的数据\n",
    "\n",
    "10.aggregation(cluster,dimension,kind=0,p=2)\n",
    "\n",
    "  #聚合操作\n",
    "\n",
    "11.makeplt3D(List)\n",
    "\n",
    "  #根据List绘制三维点空间分布图\n",
    "\n",
    "12.makeplt2D(List,label1)\n",
    "\n",
    "  #根据List和label绘制分布直方图\n",
    "```"
   ]
  },
  {
   "cell_type": "markdown",
   "metadata": {},
   "source": [
    "#### 代码详解"
   ]
  },
  {
   "cell_type": "code",
   "execution_count": 38,
   "metadata": {},
   "outputs": [],
   "source": [
    "import numpy as np\n",
    "import math\n",
    "import copy\n",
    "import random\n",
    "import matplotlib.pyplot as plt\n",
    "import string"
   ]
  },
  {
   "cell_type": "markdown",
   "metadata": {},
   "source": [
    "- 生成随机数据\n",
    "\n",
    "使用`np.random.multivariate_normal`函数生成均值向量为`mean`，协方差矩阵为`cov`，数量为`num`，标签为`label`的样本数据。"
   ]
  },
  {
   "cell_type": "code",
   "execution_count": 39,
   "metadata": {},
   "outputs": [],
   "source": [
    "# 生成数据\n",
    "def create_sample(mean, cov, num, label):\n",
    "    '''\n",
    "    :param mean: 均值向量\n",
    "    :param cov: 协方差矩阵\n",
    "    :param num: 数量\n",
    "    :param label: 标签\n",
    "    :return: 最终生成的数据前三列表示特征，后一列表示便签\n",
    "    '''\n",
    "    x,y,z=np.random.multivariate_normal(mean,cov,num).T\n",
    "    L = np.ones(num)*label\n",
    "    X=np.array([x,y,z,L])\n",
    "    return X.T"
   ]
  },
  {
   "cell_type": "markdown",
   "metadata": {},
   "source": [
    "- 两点之间距离计算\n",
    "\n",
    "在本次试验中使用闵可夫斯基距离进行计算，默认使用`p=2`，即计算两个点之间的欧氏距离"
   ]
  },
  {
   "cell_type": "code",
   "execution_count": 40,
   "metadata": {},
   "outputs": [],
   "source": [
    "def PoMinkowski(x1,x2,dimension,p=2):\n",
    "    '''\n",
    "    :param x1: 点x1\n",
    "    :param x2: 点x2\n",
    "    :param dimension: 两个点所在的空间维度\n",
    "    :param p: 参数p=2时为欧氏距离\n",
    "    :return: 距离\n",
    "    '''\n",
    "    dis = 0\n",
    "    for i in range(dimension):\n",
    "        dis = dis + math.pow(x1[i]-x2[i],p)\n",
    "    return math.sqrt(dis)"
   ]
  },
  {
   "cell_type": "markdown",
   "metadata": {},
   "source": [
    "- 三种层次聚类算法(基本要求和中级要求)\n",
    "\n",
    "使用三种不同的方法(如上图)计算两个类之间的距离，类中两个点之间的距离还是使用欧式距离"
   ]
  },
  {
   "cell_type": "code",
   "execution_count": 41,
   "metadata": {},
   "outputs": [],
   "source": [
    "# 最短距离single linkage\n",
    "def clusingle(clu1,clu2,dimension,p=2):\n",
    "\n",
    "    Min = float(\"inf\")\n",
    "    for i in range(len(clu1)):\n",
    "        for j in range(len(clu2)):\n",
    "            d=PoMinkowski(clu1[i],clu2[j],dimension,p)\n",
    "            Min = d if d < Min else Min\n",
    "    return Min\n",
    "\n",
    "# 最长距离complete linkage\n",
    "def clucomplete(clu1,clu2,dimension,p=2):\n",
    "\n",
    "    Max = float(\"-inf\")\n",
    "    for i in range(len(clu1)):\n",
    "        for j in range(len(clu2)):\n",
    "            d = PoMinkowski(clu1[i],clu2[j],dimension,p)\n",
    "            Max = d if d>Max else Max\n",
    "    return Max\n",
    "\n",
    "# 平均距离average linkage\n",
    "def cluaverage(clu1,clu2,dimension,p=2):\n",
    "    \n",
    "    d = 0\n",
    "    for i in range(len(clu1)):\n",
    "        for j in range(len(clu2)):\n",
    "            d = d + PoMinkowski(clu1[i],clu2[j],dimension,p)\n",
    "    ans = d/(len(clu1)*len(clu2))\n",
    "    return ans\n"
   ]
  },
  {
   "cell_type": "markdown",
   "metadata": {},
   "source": [
    "- 生成类距离矩阵\n",
    "\n",
    "kind表示使用哪一种层次聚类方法，定义`func`为函数指针，`templist[i][j]`表示第`i`个类和第`j`个类的距离。"
   ]
  },
  {
   "cell_type": "code",
   "execution_count": 42,
   "metadata": {},
   "outputs": [],
   "source": [
    "# 类距离矩阵生成\n",
    "def discluster(cluster,dimension,kind=0,p=2):\n",
    "    '''\n",
    "    :param cluster: 类组成的集合\n",
    "    :param dimension: 点的维度\n",
    "    :param p: p=2 表示欧式距离\n",
    "    :param kind: 使用哪种方法求类距离\n",
    "    :return: 类距离矩阵\n",
    "    '''\n",
    "    if kind == 0:\n",
    "        func = clusingle\n",
    "    elif kind == 1:\n",
    "        func = clucomplete\n",
    "    elif kind == 2:\n",
    "        func = cluaverage\n",
    "    else:\n",
    "        print(\"para:'kind' error\")\n",
    "        exit(0)\n",
    "\n",
    "    templist = np.zeros((len(cluster),len(cluster)))\n",
    "    for i in range(len(cluster)):\n",
    "        for j in range(len(cluster)):\n",
    "            templist[i][j]=func(cluster[i],cluster[j],dimension,p)\n",
    "    return templist"
   ]
  },
  {
   "cell_type": "markdown",
   "metadata": {},
   "source": [
    "- 找到距离最近的两个类的下标，便于后面的合并\n",
    "\n",
    "当i=j时表示的是类和自身的距离，始终为零，当`i=j`时不需要合并，所以排除`j=i`的情况，当迭代过类距离矩阵之后，`res`中储存的是距离最小的两个类的编号"
   ]
  },
  {
   "cell_type": "code",
   "execution_count": 43,
   "metadata": {},
   "outputs": [],
   "source": [
    "# 找到类集合中距离最近的两个类\n",
    "def dismin(distance):\n",
    "    '''\n",
    "    :param distance: 类距离矩阵\n",
    "    :return: 距离最近的两个类的坐标\n",
    "    '''\n",
    "    Min = float(\"inf\")\n",
    "    res=[0,0]\n",
    "    for  i in range(len(distance)):\n",
    "        for j in range(len(distance)):\n",
    "            if i!=j and distance[i][j] < Min:\n",
    "                Min = distance[i][j]\n",
    "                res = [i,j]\n",
    "    return res"
   ]
  },
  {
   "cell_type": "markdown",
   "metadata": {},
   "source": [
    "- 合并两个类\n",
    "\n",
    "使用`extend`将`b`合并到`a`中，使用`remove`从`cluster`中移除`b`，实现`a`和`b`的合并"
   ]
  },
  {
   "cell_type": "code",
   "execution_count": 44,
   "metadata": {},
   "outputs": [],
   "source": [
    "# 聚合操作，更新类\n",
    "def update(cluster,res):\n",
    "    a = cluster[res[0]]\n",
    "    b = cluster[res[1]]\n",
    "    a.extend(b)\n",
    "    cluster.remove(b)"
   ]
  },
  {
   "cell_type": "markdown",
   "metadata": {},
   "source": [
    "- 数据统计\n",
    "\n",
    "统计合并之后每一类中不同类标签的数量储存在`count`中，`count[0][2]`表示`cluster[0]`中类标签为3的样本数量，列表`label`中储存合并后每一类是什么标签(根据这一类中最多的类标签)，`label[0]`储存着`cluster[0]`是哪一类"
   ]
  },
  {
   "cell_type": "code",
   "execution_count": 45,
   "metadata": {},
   "outputs": [],
   "source": [
    "# 数据统计\n",
    "def datastat(cluster):\n",
    "    '''\n",
    "    :param cluster: 合并之后的类\n",
    "    :return: count 统计结果 label三类的标签\n",
    "    '''\n",
    "    # count统计合并聚类后的三个类中分别含有三种类别样本集合的数量\n",
    "    count = [[0,0,0],[0,0,0],[0,0,0]]\n",
    "    for i in range(3):\n",
    "        for j in range(len(cluster[i])):\n",
    "            count[i][int(cluster[i][j][3]-1)]+=1\n",
    "    count=np.array(count)\n",
    "    # 数量最多的类作为合并后这一类的类标签\n",
    "    label = count.argmax(axis=1)+1\n",
    "    return count,label"
   ]
  },
  {
   "cell_type": "markdown",
   "metadata": {},
   "source": [
    "- 聚合聚类"
   ]
  },
  {
   "cell_type": "code",
   "execution_count": 46,
   "metadata": {},
   "outputs": [],
   "source": [
    "# 聚合聚类\n",
    "def aggregation(cluster,dimension,kind=0,p=2):\n",
    "    '''\n",
    "    :param cluster: 样本空间\n",
    "    :param dimension: 维度\n",
    "    :param kind: 求类距离的方法\n",
    "    :param p: 欧氏距离\n",
    "    :return: 聚合后的样本空间\n",
    "    '''\n",
    "    i = 0\n",
    "    # 当类的个数多与3时合并继续\n",
    "    while(len(cluster)>3):\n",
    "        # 每一次迭代都重新产生类距离矩阵\n",
    "        distance = discluster(cluster, dimension, kind, p)\n",
    "        # 求出距离最近的两个类的下标\n",
    "        res = dismin(distance)\n",
    "        # 合并两个类\n",
    "        update(cluster,res)"
   ]
  },
  {
   "cell_type": "markdown",
   "metadata": {},
   "source": [
    "- 绘图"
   ]
  },
  {
   "cell_type": "code",
   "execution_count": 47,
   "metadata": {},
   "outputs": [],
   "source": [
    "# 绘制三维空间分布图\n",
    "def makeplt3D(List):\n",
    "    point = np.array(List)\n",
    "    fig = plt.figure()\n",
    "    ax = fig.add_subplot(111,projection='3d')\n",
    "\n",
    "    n=len(point)\n",
    "    #print(n)\n",
    "    clu = []\n",
    "    for i in range(3):\n",
    "        clu.append(list(point[point[:,3]==i+1]))\n",
    "    #print(clu)\n",
    "\n",
    "    # symbol中储存点的形状和颜色等\n",
    "    symbol = [['r','o'],['b','^'],['g','p']]\n",
    "    for i in range(3):\n",
    "        temp=[list(c) for c in clu[i]]\n",
    "        temp=np.array(temp)\n",
    "        x = temp[:,0]\n",
    "        y = temp[:,1]\n",
    "        z = temp[:,2]\n",
    "        ax.scatter(x,y,z,c=symbol[i][0],marker=symbol[i][1])\n",
    "    ax.set_xlabel('X')\n",
    "    ax.set_ylabel('Y')\n",
    "    ax.set_zlabel('Z')\n",
    "    plt.show()\n",
    "\n",
    "# 绘制分布直方图\n",
    "def makeplt2D(List1,label1):\n",
    "    plt.bar([0.6, 1.7, 2.7], List1[0], width=0.2, label=str(label1[0]))\n",
    "    plt.bar([1, 2, 3], List1[1], width=0.2, label=str(label1[1]))\n",
    "    plt.bar([1.3, 2.3, 3.3], List1[2], width=0.2, label=str(label1[2]))\n",
    "\n",
    "    plt.legend()\n",
    "    plt.xlabel('predict class')\n",
    "    plt.ylabel('quantity')\n",
    "    plt.title(u'Quantity Bar Chart')\n",
    "\n",
    "    plt.show()"
   ]
  },
  {
   "cell_type": "markdown",
   "metadata": {},
   "source": [
    "- 主体函数"
   ]
  },
  {
   "cell_type": "code",
   "execution_count": 65,
   "metadata": {},
   "outputs": [
    {
     "name": "stdout",
     "output_type": "stream",
     "text": [
      "总共产生了102个样本\n",
      "使用single-linkage层次聚类算法\n",
      "cluster[0]标签为2\n",
      "cluster[1]标签为3\n",
      "cluster[2]标签为1\n",
      "每一类的构成及错误率如下:\n",
      "cluster\t类\t类1\t类2\t类3\t错误率\n",
      "\n",
      "   0 \t 2\t33\t34\t33\t0.6599999999999999\n",
      "   1 \t 3\t0\t0\t1\t0.0\n",
      "   2 \t 1\t1\t0\t0\t0.0\n",
      "综上:总的错误率为0.6470588235294117\n",
      "使用complete-linkage层次聚类算法\n",
      "cluster[0]标签为1\n",
      "cluster[1]标签为3\n",
      "cluster[2]标签为2\n",
      "每一类的构成及错误率如下:\n",
      "cluster\t类\t类1\t类2\t类3\t错误率\n",
      "\n",
      "   0 \t 1\t27\t3\t0\t0.09999999999999998\n",
      "   1 \t 3\t1\t9\t32\t0.23809523809523814\n",
      "   2 \t 2\t6\t22\t2\t0.2666666666666667\n",
      "综上:总的错误率为0.20588235294117652\n"
     ]
    },
    {
     "data": {
      "image/png": "[encoded data removed]",
      "text/plain": [
       "<Figure size 640x480 with 1 Axes>"
      ]
     },
     "metadata": {},
     "output_type": "display_data"
    },
    {
     "name": "stdout",
     "output_type": "stream",
     "text": [
      "使用average-linkage层次聚类算法\n",
      "cluster[0]标签为1\n",
      "cluster[1]标签为3\n",
      "cluster[2]标签为3\n",
      "每一类的构成及错误率如下:\n",
      "cluster\t类\t类1\t类2\t类3\t错误率\n",
      "\n",
      "   0 \t 1\t33\t20\t2\t0.4\n",
      "   1 \t 3\t1\t14\t31\t0.32608695652173914\n",
      "   2 \t 3\t0\t0\t1\t0.0\n",
      "综上:总的错误率为0.36274509803921573\n"
     ]
    }
   ],
   "source": [
    "if __name__ == \"__main__\":\n",
    "    # 参数设置\n",
    "    mean = np.array([[1,1,1],[2,2,2],[3,3,3]])\n",
    "    cov = [[0.5,0,0],[0,0.5,0],[0,0,0.5]]\n",
    "    n = 102\n",
    "    P = 1/3\n",
    "    num = [round(n*P) for i in range(3)]\n",
    "    total = 0\n",
    "    # clus储存合并后的矩阵\n",
    "    clus1 = []\n",
    "    # 数据生成并集合\n",
    "    for i in range(3):\n",
    "        total += num[i]\n",
    "        clus1.extend(create_sample(mean[i],cov,num[i],i+1))\n",
    "    # 将矩阵转为类\n",
    "    clus=[[list(c)] for c in clus1]\n",
    "    print(\"总共产生了{}个样本\".format(total))\n",
    "    str1 = [\"single\",\"complete\",\"average\"]\n",
    "\n",
    "    for k in range(3):\n",
    "        cor = 0\n",
    "        # 深拷贝\n",
    "        cluster = copy.deepcopy(clus)\n",
    "        # 打乱顺序(没什么用)\n",
    "        random.shuffle(cluster)\n",
    "        # 聚合聚类\n",
    "        aggregation(cluster,3,k)\n",
    "        # string中储存了三个字符串\n",
    "        print(\"使用{}-linkage层次聚类算法\".format(str1[k]))\n",
    "        # 返回统计信息\n",
    "        count, label = datastat(cluster)\n",
    "        \n",
    "        # 输出每一种层次聚类方法的统计信息\n",
    "        for i in range(3):\n",
    "            print(\"cluster[{}]标签为{}\".format(i,label[i]))\n",
    "        print(\"每一类的构成及错误率如下:\")\n",
    "        print(\"cluster\\t类\\t类1\\t类2\\t类3\\t错误率\\n\")\n",
    "        for i in range(3):\n",
    "            print(\"  \",i,\"\\t\",label[i],end=\"\")\n",
    "            for j in range(3):\n",
    "                print(\"\\t{}\".format(count[i][j],j+1),end=\"\")\n",
    "            cor += count[i][label[i]-1]\n",
    "            print(\"\\t{}\\n\".format(1-count[i][label[i]-1]/sum(count[i])),end=\"\")\n",
    "        print(\"综上:总的错误率为{}\".format(1-cor/total))\n",
    "        if k == 1:\n",
    "            makeplt2D(count, label)"
   ]
  },
  {
   "cell_type": "markdown",
   "metadata": {},
   "source": [
    "#### 实验结果\n",
    "\n",
    "(在这里使用不同的协方差矩阵进行对比分析)\n",
    "\n",
    "(1) 实现`single-linkage`层次聚类算法\n",
    "\n",
    "(2) 实现`complete-linkage`层次聚类算法\n",
    "\n",
    "(3) 实现`average-linkage`层次聚类算法\n",
    "\n",
    "在这里使用生成102个样本(2000个样本运行太慢)"
   ]
  },
  {
   "cell_type": "markdown",
   "metadata": {},
   "source": [
    "> 当协方差矩阵为[[5, 0, 0], [0, 5, 0], [0, 0, 5]]时:\n",
    "\n",
    "![图片](1.png)"
   ]
  },
  {
   "cell_type": "markdown",
   "metadata": {},
   "source": [
    "当协方差为5时，三种类别的层次聚类算法的错误率都很高，都到了`50%`以上，而且我们发现此时的样本聚类都是聚集在某一类中，PS:我们的数据集中三类数据是平均产生的，相比较而言，此时的`average-linkage`层次聚类算法的性能比较好。"
   ]
  },
  {
   "cell_type": "markdown",
   "metadata": {},
   "source": [
    "> 当协方差矩阵为[[0.5, 0, 0], [0, 0.5, 0], [0, 0, 0.5]]时:\n",
    "\n",
    "![图片](2.png)"
   ]
  },
  {
   "cell_type": "markdown",
   "metadata": {},
   "source": [
    "当协方差为0.5时，`single`和`average`算法仍然出现了严重的分类不均问题。`single-linkage`算法的错误率并没有明显的下降，仍然为`65%`上下，`complete-linkage`算法下降为了`21.5%`，`average-link`算法的错误率下降为了`36.2%`，此时性能最好的仍然是`complete-link`层次聚类算法"
   ]
  },
  {
   "cell_type": "markdown",
   "metadata": {},
   "source": [
    "> 当协方差矩阵为[[0.05, 0, 0], [0, 0.05, 0], [0, 0, 0.05]]时\n",
    "\n",
    "![图片](3.png)"
   ]
  },
  {
   "cell_type": "markdown",
   "metadata": {},
   "source": [
    "当协方差为0.05时，三者的分类准确率均为100%，没有可比性，因为当协方差为0.05时，三类数据都是泾渭分明的，如下图：\n",
    "\n",
    "![图片](4.png)"
   ]
  },
  {
   "cell_type": "markdown",
   "metadata": {},
   "source": [
    "(4) 绘图聚类前后样本分布情况\n",
    "\n",
    "> 聚类前后样本点在空间中的位置并没有改变(以协方差为0.5为例)，如下图:\n",
    "\n",
    "![图片](5.png)"
   ]
  },
  {
   "cell_type": "markdown",
   "metadata": {},
   "source": [
    "> 聚类后三类的分布直方图(以协方差=0.5为例)如下:\n",
    "\n",
    "![图片](6.png)\n",
    "\n",
    "此时数据如下：\n",
    "\n",
    "![图片](7.png)"
   ]
  }
 ],
 "metadata": {
  "kernelspec": {
   "display_name": "Python 3.10.8 64-bit",
   "language": "python",
   "name": "python3"
  },
  "language_info": {
   "codemirror_mode": {
    "name": "ipython",
    "version": 3
   },
   "file_extension": ".py",
   "mimetype": "text/x-python",
   "name": "python",
   "nbconvert_exporter": "python",
   "pygments_lexer": "ipython3",
   "version": "3.10.8"
  },
  "orig_nbformat": 4,
  "vscode": {
   "interpreter": {
    "hash": "e7370f93d1d0cde622a1f8e1c04877d8463912d04d973331ad4851f04de6915a"
   }
  }
 },
 "nbformat": 4,
 "nbformat_minor": 2
}
