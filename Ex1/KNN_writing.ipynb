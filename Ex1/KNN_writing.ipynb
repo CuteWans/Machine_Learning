{
 "cells": [
  {
   "cell_type": "markdown",
   "metadata": {},
   "source": [
    "# 机器学习作业:基于KNN 的手写数字识别\n",
    "- 姓名：卢麒萱\n",
    "- 学号：2010519\n",
    "- 专业：计算机科学与技术"
   ]
  },
  {
   "cell_type": "markdown",
   "metadata": {},
   "source": [
    "### 实验要求\n",
    "题目：基于KNN 的手写数字识别\n",
    "实验条件：给定semeion手写数字数据集，给定kNN分类算法\n",
    "实验要求：\n",
    "1. 基本要求：编程实现kNN算法；给出在不同k值（1，3，5）情况下，kNN算法对手写数字的识别精度（要求采用留一法）\n",
    "2. 中级要求：与weka机器学习包中的kNN分类结果进行对比\n",
    "3. 提高要求：将实验过程结果等图示展出\n",
    "\n",
    "**截止日期：10月7日**\n",
    "- 以.ipynb形式的文件提交，输出运行结果，并确保自己的代码能够正确运行\n",
    "- 发送到邮箱：2120220594@mail.nankai.edu.cn"
   ]
  },
  {
   "cell_type": "markdown",
   "metadata": {},
   "source": [
    "### 导入需要的包"
   ]
  },
  {
   "cell_type": "code",
   "execution_count": 23,
   "metadata": {},
   "outputs": [],
   "source": [
    "import numpy as np\n",
    "import pandas as pd\n",
    "import operator\n",
    "from collections import Counter\n",
    "from sklearn.model_selection import train_test_split,cross_val_score\n",
    "from sklearn.model_selection import LeaveOneOut\n",
    "from sklearn.model_selection import KFold\n",
    "from sklearn.neighbors import KNeighborsClassifier\n",
    "from tqdm import tqdm\n",
    "import matplotlib.pyplot as plt\n",
    "import time"
   ]
  },
  {
   "cell_type": "markdown",
   "metadata": {},
   "source": [
    "### 导入数据集 semesion"
   ]
  },
  {
   "cell_type": "code",
   "execution_count": 24,
   "metadata": {},
   "outputs": [],
   "source": [
    "# 导入数据\n",
    "def Img2Mat(fileName):\n",
    "    f = open(fileName)\n",
    "    ss = f.readlines()\n",
    "    l = len(ss)\n",
    "    f.close()\n",
    "    returnMat = np.zeros((l,256))\n",
    "    returnClassVector = np.zeros((l,1))\n",
    "    for i in range(l):\n",
    "        s1 = ss[i].split()\n",
    "        for j in range(256):\n",
    "            returnMat[i][j] = np.float(s1[j])\n",
    "        clCount = 0\n",
    "        for j in range(256,266):\n",
    "            if s1[j] != '1':\n",
    "                clCount += 1\n",
    "            else:\n",
    "                break\n",
    "        returnClassVector[i] = clCount\n",
    "    return returnMat,returnClassVector"
   ]
  },
  {
   "cell_type": "code",
   "execution_count": 25,
   "metadata": {},
   "outputs": [
    {
     "name": "stderr",
     "output_type": "stream",
     "text": [
      "/tmp/ipykernel_8818/2757158993.py:12: DeprecationWarning: `np.float` is a deprecated alias for the builtin `float`. To silence this warning, use `float` by itself. Doing this will not modify any behavior and is safe. If you specifically wanted the numpy scalar type, use `np.float64` here.\n",
      "Deprecated in NumPy 1.20; for more details and guidance: https://numpy.org/devdocs/release/1.20.0-notes.html#deprecations\n",
      "  returnMat[i][j] = np.float(s1[j])\n"
     ]
    },
    {
     "data": {
      "text/plain": [
       "((1593, 256), (1593, 1))"
      ]
     },
     "execution_count": 25,
     "metadata": {},
     "output_type": "execute_result"
    }
   ],
   "source": [
    "X,y = Img2Mat('semeion.data')\n",
    "np.shape(X), np.shape(y)"
   ]
  },
  {
   "cell_type": "markdown",
   "metadata": {},
   "source": [
    "### 基本要求\n",
    "编程实现kNN算法；给出不同k值（1，3，5）情况下，kNN算法对手写数字的识别精度（模板中采用的是普通方法分割训练集和测试集，作业中需要用留一法）"
   ]
  },
  {
   "cell_type": "code",
   "execution_count": 26,
   "metadata": {},
   "outputs": [],
   "source": [
    "# KNN算法手动实现\n",
    "from operator import index\n",
    "\n",
    "\n",
    "def MyKnnClassifier(data_X, data_y, neighbors):\n",
    "    # 生成数据集和测试集\n",
    "    kf = KFold(n_splits = 4,shuffle = False,random_state = None)\n",
    "    data = np.append(data_X, data_y, axis=1)\n",
    "    attri = \"\"\n",
    "    for i in range(256):\n",
    "        attri_tmp = 'x' + str(i)\n",
    "        # print(attri_tmp)\n",
    "        attri = attri + attri_tmp + \",\"\n",
    "    attri = attri + \"y\"\n",
    "    b = np.savetxt('./tmp.csv', data, fmt=\"%d\", header = attri, delimiter=',')\n",
    "    # print(data_X.shape)\n",
    "    # print(data_y.shape)\n",
    "    # print(data.shape)\n",
    "    testRes = []  # 存放测试结果\n",
    "    acc = 0   # 计算准确率\n",
    "    for index, test in enumerate(data): \n",
    "        # 留一法\n",
    "        # 训练集为当前数据以外的数据合并\n",
    "        if index == 0:\n",
    "            train = data[1::, ::]\n",
    "        elif index == data.shape[0]-2:\n",
    "            train = data[:index-1:, ::]\n",
    "        else:\n",
    "            train_r = data[index+1::, ::]    \n",
    "            train_l = data[0:index:, ::]\n",
    "            # print(train_r.shape)\n",
    "            # print(train_l.shape)\n",
    "            train = np.append(train_l, train_r, axis = 0)\n",
    "\n",
    "        cols = len(train[0]) # 训练集每组中x和y的总数(y为最后一位)\n",
    "        y_train = train[::, cols-1::] # 训练集为二维\n",
    "        X_train = train[::, :cols-1:]\n",
    "        X_test = test[:cols-1:]\n",
    "        X_test  = X_test.reshape(1, X_test.shape[0])\n",
    "        y_test = test[cols-1::]\n",
    "        y_test  = y_test.reshape(1, y_test.shape[0])\n",
    "\n",
    "        # 针对测试集中样本进行预测\n",
    "        trainShape = X_train.shape[0]   # 获得训练集的大小\n",
    "        testShape = X_test.shape[0] # 获得测试集的大小(为1)\n",
    "\n",
    "        # print(trainShape)\n",
    "        # print(testShape)\n",
    "        # 差异矩阵 = 该样本与训练集中所有样本之差构成的矩阵\n",
    "        #print(X_test[0].shape)\n",
    "        testDiffMat = np.tile(X_test[0],(trainShape, 1)) - X_train\n",
    "        sqTestDiffMat = testDiffMat ** 2    # 将差异矩阵平方\n",
    "        # 方差距离为方差矩阵的整行求和，是一个一位列向量\n",
    "        sqTestDiffDis = sqTestDiffMat.sum(axis=1)\n",
    "        testDiffDis = sqTestDiffDis ** 0.5  # 开方生成标准差距离\n",
    "        sortIndex = np.argsort(testDiffDis)   # 将标准差距离按照下标排序\n",
    "        labelCount = []\n",
    "        for j in range(neighbors):  # 考察k近邻属于哪些类\n",
    "            labelCount.append(y_train[sortIndex[j]][0])\n",
    "        classifyRes = Counter(labelCount)    # 把k近邻中最多的那个标签作为分类结果\n",
    "        classifyRes = classifyRes.most_common(2)[0][0]\n",
    "        testRes.append(classifyRes)\n",
    "        if classifyRes == y_test[0]:  # 分类正确则将accRate+1\n",
    "            acc += 1\n",
    "    accRate = acc / data.shape[0]\n",
    "    print('k={0}时，测试个数为{1}  正确个数为：{2}  准确率为：{3}'.format(neighbors,data.shape[0],acc,accRate))\n",
    "    return accRate"
   ]
  },
  {
   "cell_type": "markdown",
   "metadata": {},
   "source": [
    "实验结果："
   ]
  },
  {
   "cell_type": "code",
   "execution_count": 30,
   "metadata": {},
   "outputs": [
    {
     "name": "stdout",
     "output_type": "stream",
     "text": [
      "k=1时，测试个数为1593  正确个数为：1459  准确率为：0.9158819836785939\n",
      "k=3时，测试个数为1593  正确个数为：1464  准确率为：0.9190207156308852\n",
      "k=5时，测试个数为1593  正确个数为：1458  准确率为：0.9152542372881356\n"
     ]
    },
    {
     "data": {
      "text/plain": [
       "0.9152542372881356"
      ]
     },
     "execution_count": 30,
     "metadata": {},
     "output_type": "execute_result"
    }
   ],
   "source": [
    "MyKnnClassifier(X, y, 1)\n",
    "MyKnnClassifier(X, y, 3)\n",
    "MyKnnClassifier(X, y, 5)"
   ]
  },
  {
   "cell_type": "markdown",
   "metadata": {},
   "source": [
    "### 中级要求\n",
    "模板中与sklearn机器学习包中的kNN分类结果进行对比（作业中需要与weka机器学习包中的kNN分类结果进行对比）"
   ]
  },
  {
   "cell_type": "markdown",
   "metadata": {},
   "source": [
    "实验结果："
   ]
  },
  {
   "cell_type": "markdown",
   "metadata": {},
   "source": [
    "k=1时，weka机器学习包训练手写体识别的准确率为：91.4626%\n",
    "\n",
    "![](1.png)\n",
    "\n",
    "k=3时，weka机器学习包训练手写体识别的准确率为：90.3327%\n",
    "\n",
    "![](3.png)\n",
    "\n",
    "k=5时，weka机器学习包训练手写体识别的准确率为：90.2699%\n",
    "\n",
    "![](5.png)"
   ]
  },
  {
   "cell_type": "markdown",
   "metadata": {},
   "source": [
    "### 高级要求\n",
    "将实验过程结果等图示展出\n",
    "此处在weka中手动设置k值1-10，得出结果进行比较。"
   ]
  },
  {
   "cell_type": "code",
   "execution_count": 33,
   "metadata": {},
   "outputs": [
    {
     "name": "stdout",
     "output_type": "stream",
     "text": [
      "k=1时，测试个数为1593  正确个数为：1459  准确率为：0.9158819836785939\n",
      "k=2时，测试个数为1593  正确个数为：1459  准确率为：0.9158819836785939\n",
      "k=3时，测试个数为1593  正确个数为：1464  准确率为：0.9190207156308852\n",
      "k=4时，测试个数为1593  正确个数为：1465  准确率为：0.9196484620213434\n",
      "k=5时，测试个数为1593  正确个数为：1458  准确率为：0.9152542372881356\n",
      "k=6时，测试个数为1593  正确个数为：1464  准确率为：0.9190207156308852\n",
      "k=7时，测试个数为1593  正确个数为：1469  准确率为：0.9221594475831764\n",
      "k=8时，测试个数为1593  正确个数为：1472  准确率为：0.9240426867545511\n",
      "k=9时，测试个数为1593  正确个数为：1471  准确率为：0.9234149403640929\n",
      "k=10时，测试个数为1593  正确个数为：1465  准确率为：0.9196484620213434\n"
     ]
    }
   ],
   "source": [
    "scores1 = []\n",
    "scores2 = [0.914626, 0.88575, 0.903327, 0.901444, 0.902699, 0.902699, 0.903327, 0.89705, 0.895961, 0.895961]\n",
    "\n",
    "for k in range(1,11):\n",
    "    score1 = MyKnnClassifier(X, y, k)\n",
    "    scores1.append(score1)"
   ]
  },
  {
   "cell_type": "code",
   "execution_count": 34,
   "metadata": {},
   "outputs": [
    {
     "data": {
      "image/png": "[encoded data removed]",
      "text/plain": [
       "<Figure size 640x480 with 1 Axes>"
      ]
     },
     "metadata": {},
     "output_type": "display_data"
    }
   ],
   "source": [
    "plt.xlabel('k value:',fontsize=18)\n",
    "plt.ylabel('accuracy',fontsize=18)\n",
    "x_major_locator = plt.MultipleLocator(1)\n",
    "ax = plt.gca()\n",
    "ax.xaxis.set_major_locator(x_major_locator)\n",
    "plt.xlim(0, 11)\n",
    "plt.ylim(0.75, 1)\n",
    "# 普通kNN分类精度\n",
    "l1 = plt.plot(range(1,11),scores1,'r', label = 'myknn')\n",
    "l2 = plt.plot(range(1,11),scores2,'b', label = 'weka')\n",
    "plt.legend(loc='upper right')\n",
    "plt.show()"
   ]
  }
 ],
 "metadata": {
  "kernelspec": {
   "display_name": "Python 3.10.7 64-bit",
   "language": "python",
   "name": "python3"
  },
  "language_info": {
   "codemirror_mode": {
    "name": "ipython",
    "version": 3
   },
   "file_extension": ".py",
   "mimetype": "text/x-python",
   "name": "python",
   "nbconvert_exporter": "python",
   "pygments_lexer": "ipython3",
   "version": "3.10.7"
  },
  "vscode": {
   "interpreter": {
    "hash": "916dbcbb3f70747c44a77c7bcd40155683ae19c65e1c03b4aa3499c5328201f1"
   }
  }
 },
 "nbformat": 4,
 "nbformat_minor": 2
}
